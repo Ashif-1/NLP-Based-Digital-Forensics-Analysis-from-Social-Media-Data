{
  "nbformat": 4,
  "nbformat_minor": 0,
  "metadata": {
    "colab": {
      "provenance": []
    },
    "kernelspec": {
      "name": "python3",
      "display_name": "Python 3"
    },
    "language_info": {
      "name": "python"
    }
  },
  "cells": [
    {
      "cell_type": "markdown",
      "source": [
        "# 🧠 Digital Forensics Analysis from Social Media Data\n",
        "**Author:** Ashif Rabbani\n",
        "\n",
        "**Environment:** Google Colab\n",
        "\n",
        "**Data Source:** Social Media Platforms, Github\n",
        "\n",
        "This project leverages Natural Language Processing (NLP) and Blockchain technology to identify and preserve potential digital forensic evidence from social media posts."
      ],
      "metadata": {
        "id": "k_jZr0_zZkmA"
      }
    },
    {
      "cell_type": "markdown",
      "source": [
        "✅ Step 1: Load and Explore Raw Data\n",
        "\n",
        "📌 Objective\n",
        "\n",
        "Clone a public GitHub repository containing sample social media datasets, load the data, and take an initial look at the structure and contents."
      ],
      "metadata": {
        "id": "zSyR75KHn_vL"
      }
    },
    {
      "cell_type": "code",
      "source": [
        "# Clone the repository (only needs to be done once per runtime session)\n",
        "!git clone https://github.com/luminati-io/Social-media-dataset-samples.git\n",
        "\n",
        "# Change directory to where the datasets are stored\n",
        "%cd Social-media-dataset-samples"
      ],
      "metadata": {
        "id": "8aRzC51wwEev",
        "colab": {
          "base_uri": "https://localhost:8080/"
        },
        "outputId": "a9be4b2a-db75-475a-bde7-a0312256afea"
      },
      "execution_count": 1,
      "outputs": [
        {
          "output_type": "stream",
          "name": "stdout",
          "text": [
            "Cloning into 'Social-media-dataset-samples'...\n",
            "remote: Enumerating objects: 22, done.\u001b[K\n",
            "remote: Counting objects: 100% (22/22), done.\u001b[K\n",
            "remote: Compressing objects: 100% (19/19), done.\u001b[K\n",
            "remote: Total 22 (delta 6), reused 0 (delta 0), pack-reused 0 (from 0)\u001b[K\n",
            "Receiving objects: 100% (22/22), 1.21 MiB | 11.35 MiB/s, done.\n",
            "Resolving deltas: 100% (6/6), done.\n",
            "/content/Social-media-dataset-samples\n"
          ]
        }
      ]
    },
    {
      "cell_type": "code",
      "source": [
        "!ls"
      ],
      "metadata": {
        "colab": {
          "base_uri": "https://localhost:8080/"
        },
        "id": "lp9BA6FlwNmX",
        "outputId": "7d82a7fd-3b30-4094-fe05-e05f88e5b69e"
      },
      "execution_count": 2,
      "outputs": [
        {
          "output_type": "stream",
          "name": "stdout",
          "text": [
            " Facebook-datasets.csv\t  README.md\t\t      TikTok-datasets.csv\n",
            " Instagram-datasets.csv   Social-media-datasets.png  'Twitter- datasets.csv'\n"
          ]
        }
      ]
    },
    {
      "cell_type": "code",
      "source": [
        "import pandas as pd\n",
        "\n",
        "# Load with correct filename (handle space)\n",
        "df_twitter = pd.read_csv('Twitter- datasets.csv')\n",
        "\n",
        "# Quick preview of the first few rows\n",
        "df_twitter.head()\n"
      ],
      "metadata": {
        "colab": {
          "base_uri": "https://localhost:8080/",
          "height": 516
        },
        "id": "pugK9W_5w7Qh",
        "outputId": "75342f30-c4d5-4789-e578-37be49bca0e9"
      },
      "execution_count": 4,
      "outputs": [
        {
          "output_type": "execute_result",
          "data": {
            "text/plain": [
              "                    id   user_posted           name  \\\n",
              "0  1868428607451799983  Glo███ews███   Glo███ews███   \n",
              "1  1868159094567121215  bil███ard███   bil███ard███   \n",
              "2  1868451534708883739  TNT███rts███  TNT███ort███R   \n",
              "3  1868441382022717466  TNT███rts███  TNT███ort███R   \n",
              "4  1868418260892565925  Glo███ews███   Glo███ews███   \n",
              "\n",
              "                                         description  \\\n",
              "0  Com o fim da ditadura Assad, muitos sírios con...   \n",
              "1  Brian Austin Green Tells MGK to ‘Grow Up’ Afte...   \n",
              "2  VENCE O PSG NO CLÁSSICO! 💪🇫🇷 Nossa @claalbuque...   \n",
              "3  ÍDOLO E AGORA PRESIDENTE! 🇦🇷🇦🇷 O ex-atacante D...   \n",
              "4  .@DanielaLima_ : cirurgia de Lula travou negoc...   \n",
              "\n",
              "                  date_posted  \\\n",
              "0  \"2024-12-15T22:51:08.000Z\"   \n",
              "1  \"2024-12-15T05:00:11.000Z\"   \n",
              "2  \"2024-12-16T00:22:14.000Z\"   \n",
              "3  \"2024-12-15T23:41:54.000Z\"   \n",
              "4  \"2024-12-15T22:10:01.000Z\"   \n",
              "\n",
              "                                              photos  \\\n",
              "0                                                NaN   \n",
              "1                                                NaN   \n",
              "2                                                NaN   \n",
              "3  [\"https://pbs.twimg.com/media/Ge4JhOgXcAAQy5K....   \n",
              "4                                                NaN   \n",
              "\n",
              "                                                 url  \\\n",
              "0  https://x.com/GloboNews/status/186842860745179...   \n",
              "1  https://x.com/billboard/status/186815909456712...   \n",
              "2  https://x.com/TNTSportsBR/status/1868451534708...   \n",
              "3  https://x.com/TNTSportsBR/status/1868441382022...   \n",
              "4  https://x.com/GloboNews/status/186841826089256...   \n",
              "\n",
              "                                        tagged_users  replies  reposts  ...  \\\n",
              "0                                                NaN        2        1  ...   \n",
              "1                                                NaN        7        3  ...   \n",
              "2  [{\"biography\":null,\"followers\":null,\"following...        2        1  ...   \n",
              "3  [{\"biography\":null,\"followers\":null,\"following...        6        5  ...   \n",
              "4  [{\"biography\":null,\"followers\":null,\"following...       50        4  ...   \n",
              "\n",
              "   posts_count                                 profile_image_link following  \\\n",
              "0       222223  https://pbs.twimg.com/profile_images/155910271...       122   \n",
              "1       357584  https://pbs.twimg.com/profile_images/169657720...      3784   \n",
              "2       456734  https://pbs.twimg.com/profile_images/180701304...       859   \n",
              "3       456734  https://pbs.twimg.com/profile_images/180701304...       859   \n",
              "4       222223  https://pbs.twimg.com/profile_images/155910271...       122   \n",
              "\n",
              "  is_verified  quotes bookmarks  \\\n",
              "0       False       1         1   \n",
              "1       False       1         2   \n",
              "2       False       0         1   \n",
              "3       False       1         3   \n",
              "4       False       3         3   \n",
              "\n",
              "                                 parent_post_details  \\\n",
              "0  {\"post_id\":null,\"profile_id\":null,\"profile_nam...   \n",
              "1  {\"post_id\":null,\"profile_id\":null,\"profile_nam...   \n",
              "2  {\"post_id\":null,\"profile_id\":null,\"profile_nam...   \n",
              "3  {\"post_id\":null,\"profile_id\":null,\"profile_nam...   \n",
              "4  {\"post_id\":null,\"profile_id\":null,\"profile_nam...   \n",
              "\n",
              "                                 external_image_urls  \\\n",
              "0                                                NaN   \n",
              "1  [\"https://pbs.twimg.com/card_img/1867636129563...   \n",
              "2                                                NaN   \n",
              "3                                                NaN   \n",
              "4                                                NaN   \n",
              "\n",
              "                                              videos  \\\n",
              "0  [{\"duration\":148167,\"video_url\":\"https://video...   \n",
              "1                                                NaN   \n",
              "2  [{\"duration\":94861,\"video_url\":\"https://video....   \n",
              "3                                                NaN   \n",
              "4  [{\"duration\":127067,\"video_url\":\"https://video...   \n",
              "\n",
              "                                         quoted_post  \n",
              "0  {\"data_posted\":null,\"description\":null,\"photos...  \n",
              "1  {\"data_posted\":null,\"description\":null,\"photos...  \n",
              "2  {\"data_posted\":null,\"description\":null,\"photos...  \n",
              "3  {\"data_posted\":null,\"description\":null,\"photos...  \n",
              "4  {\"data_posted\":null,\"description\":null,\"photos...  \n",
              "\n",
              "[5 rows x 26 columns]"
            ],
            "text/html": [
              "\n",
              "  <div id=\"df-85c7ab09-8326-4c52-abbc-6c00c696935b\" class=\"colab-df-container\">\n",
              "    <div>\n",
              "<style scoped>\n",
              "    .dataframe tbody tr th:only-of-type {\n",
              "        vertical-align: middle;\n",
              "    }\n",
              "\n",
              "    .dataframe tbody tr th {\n",
              "        vertical-align: top;\n",
              "    }\n",
              "\n",
              "    .dataframe thead th {\n",
              "        text-align: right;\n",
              "    }\n",
              "</style>\n",
              "<table border=\"1\" class=\"dataframe\">\n",
              "  <thead>\n",
              "    <tr style=\"text-align: right;\">\n",
              "      <th></th>\n",
              "      <th>id</th>\n",
              "      <th>user_posted</th>\n",
              "      <th>name</th>\n",
              "      <th>description</th>\n",
              "      <th>date_posted</th>\n",
              "      <th>photos</th>\n",
              "      <th>url</th>\n",
              "      <th>tagged_users</th>\n",
              "      <th>replies</th>\n",
              "      <th>reposts</th>\n",
              "      <th>...</th>\n",
              "      <th>posts_count</th>\n",
              "      <th>profile_image_link</th>\n",
              "      <th>following</th>\n",
              "      <th>is_verified</th>\n",
              "      <th>quotes</th>\n",
              "      <th>bookmarks</th>\n",
              "      <th>parent_post_details</th>\n",
              "      <th>external_image_urls</th>\n",
              "      <th>videos</th>\n",
              "      <th>quoted_post</th>\n",
              "    </tr>\n",
              "  </thead>\n",
              "  <tbody>\n",
              "    <tr>\n",
              "      <th>0</th>\n",
              "      <td>1868428607451799983</td>\n",
              "      <td>Glo███ews███</td>\n",
              "      <td>Glo███ews███</td>\n",
              "      <td>Com o fim da ditadura Assad, muitos sírios con...</td>\n",
              "      <td>\"2024-12-15T22:51:08.000Z\"</td>\n",
              "      <td>NaN</td>\n",
              "      <td>https://x.com/GloboNews/status/186842860745179...</td>\n",
              "      <td>NaN</td>\n",
              "      <td>2</td>\n",
              "      <td>1</td>\n",
              "      <td>...</td>\n",
              "      <td>222223</td>\n",
              "      <td>https://pbs.twimg.com/profile_images/155910271...</td>\n",
              "      <td>122</td>\n",
              "      <td>False</td>\n",
              "      <td>1</td>\n",
              "      <td>1</td>\n",
              "      <td>{\"post_id\":null,\"profile_id\":null,\"profile_nam...</td>\n",
              "      <td>NaN</td>\n",
              "      <td>[{\"duration\":148167,\"video_url\":\"https://video...</td>\n",
              "      <td>{\"data_posted\":null,\"description\":null,\"photos...</td>\n",
              "    </tr>\n",
              "    <tr>\n",
              "      <th>1</th>\n",
              "      <td>1868159094567121215</td>\n",
              "      <td>bil███ard███</td>\n",
              "      <td>bil███ard███</td>\n",
              "      <td>Brian Austin Green Tells MGK to ‘Grow Up’ Afte...</td>\n",
              "      <td>\"2024-12-15T05:00:11.000Z\"</td>\n",
              "      <td>NaN</td>\n",
              "      <td>https://x.com/billboard/status/186815909456712...</td>\n",
              "      <td>NaN</td>\n",
              "      <td>7</td>\n",
              "      <td>3</td>\n",
              "      <td>...</td>\n",
              "      <td>357584</td>\n",
              "      <td>https://pbs.twimg.com/profile_images/169657720...</td>\n",
              "      <td>3784</td>\n",
              "      <td>False</td>\n",
              "      <td>1</td>\n",
              "      <td>2</td>\n",
              "      <td>{\"post_id\":null,\"profile_id\":null,\"profile_nam...</td>\n",
              "      <td>[\"https://pbs.twimg.com/card_img/1867636129563...</td>\n",
              "      <td>NaN</td>\n",
              "      <td>{\"data_posted\":null,\"description\":null,\"photos...</td>\n",
              "    </tr>\n",
              "    <tr>\n",
              "      <th>2</th>\n",
              "      <td>1868451534708883739</td>\n",
              "      <td>TNT███rts███</td>\n",
              "      <td>TNT███ort███R</td>\n",
              "      <td>VENCE O PSG NO CLÁSSICO! 💪🇫🇷 Nossa @claalbuque...</td>\n",
              "      <td>\"2024-12-16T00:22:14.000Z\"</td>\n",
              "      <td>NaN</td>\n",
              "      <td>https://x.com/TNTSportsBR/status/1868451534708...</td>\n",
              "      <td>[{\"biography\":null,\"followers\":null,\"following...</td>\n",
              "      <td>2</td>\n",
              "      <td>1</td>\n",
              "      <td>...</td>\n",
              "      <td>456734</td>\n",
              "      <td>https://pbs.twimg.com/profile_images/180701304...</td>\n",
              "      <td>859</td>\n",
              "      <td>False</td>\n",
              "      <td>0</td>\n",
              "      <td>1</td>\n",
              "      <td>{\"post_id\":null,\"profile_id\":null,\"profile_nam...</td>\n",
              "      <td>NaN</td>\n",
              "      <td>[{\"duration\":94861,\"video_url\":\"https://video....</td>\n",
              "      <td>{\"data_posted\":null,\"description\":null,\"photos...</td>\n",
              "    </tr>\n",
              "    <tr>\n",
              "      <th>3</th>\n",
              "      <td>1868441382022717466</td>\n",
              "      <td>TNT███rts███</td>\n",
              "      <td>TNT███ort███R</td>\n",
              "      <td>ÍDOLO E AGORA PRESIDENTE! 🇦🇷🇦🇷 O ex-atacante D...</td>\n",
              "      <td>\"2024-12-15T23:41:54.000Z\"</td>\n",
              "      <td>[\"https://pbs.twimg.com/media/Ge4JhOgXcAAQy5K....</td>\n",
              "      <td>https://x.com/TNTSportsBR/status/1868441382022...</td>\n",
              "      <td>[{\"biography\":null,\"followers\":null,\"following...</td>\n",
              "      <td>6</td>\n",
              "      <td>5</td>\n",
              "      <td>...</td>\n",
              "      <td>456734</td>\n",
              "      <td>https://pbs.twimg.com/profile_images/180701304...</td>\n",
              "      <td>859</td>\n",
              "      <td>False</td>\n",
              "      <td>1</td>\n",
              "      <td>3</td>\n",
              "      <td>{\"post_id\":null,\"profile_id\":null,\"profile_nam...</td>\n",
              "      <td>NaN</td>\n",
              "      <td>NaN</td>\n",
              "      <td>{\"data_posted\":null,\"description\":null,\"photos...</td>\n",
              "    </tr>\n",
              "    <tr>\n",
              "      <th>4</th>\n",
              "      <td>1868418260892565925</td>\n",
              "      <td>Glo███ews███</td>\n",
              "      <td>Glo███ews███</td>\n",
              "      <td>.@DanielaLima_ : cirurgia de Lula travou negoc...</td>\n",
              "      <td>\"2024-12-15T22:10:01.000Z\"</td>\n",
              "      <td>NaN</td>\n",
              "      <td>https://x.com/GloboNews/status/186841826089256...</td>\n",
              "      <td>[{\"biography\":null,\"followers\":null,\"following...</td>\n",
              "      <td>50</td>\n",
              "      <td>4</td>\n",
              "      <td>...</td>\n",
              "      <td>222223</td>\n",
              "      <td>https://pbs.twimg.com/profile_images/155910271...</td>\n",
              "      <td>122</td>\n",
              "      <td>False</td>\n",
              "      <td>3</td>\n",
              "      <td>3</td>\n",
              "      <td>{\"post_id\":null,\"profile_id\":null,\"profile_nam...</td>\n",
              "      <td>NaN</td>\n",
              "      <td>[{\"duration\":127067,\"video_url\":\"https://video...</td>\n",
              "      <td>{\"data_posted\":null,\"description\":null,\"photos...</td>\n",
              "    </tr>\n",
              "  </tbody>\n",
              "</table>\n",
              "<p>5 rows × 26 columns</p>\n",
              "</div>\n",
              "    <div class=\"colab-df-buttons\">\n",
              "\n",
              "  <div class=\"colab-df-container\">\n",
              "    <button class=\"colab-df-convert\" onclick=\"convertToInteractive('df-85c7ab09-8326-4c52-abbc-6c00c696935b')\"\n",
              "            title=\"Convert this dataframe to an interactive table.\"\n",
              "            style=\"display:none;\">\n",
              "\n",
              "  <svg xmlns=\"http://www.w3.org/2000/svg\" height=\"24px\" viewBox=\"0 -960 960 960\">\n",
              "    <path d=\"M120-120v-720h720v720H120Zm60-500h600v-160H180v160Zm220 220h160v-160H400v160Zm0 220h160v-160H400v160ZM180-400h160v-160H180v160Zm440 0h160v-160H620v160ZM180-180h160v-160H180v160Zm440 0h160v-160H620v160Z\"/>\n",
              "  </svg>\n",
              "    </button>\n",
              "\n",
              "  <style>\n",
              "    .colab-df-container {\n",
              "      display:flex;\n",
              "      gap: 12px;\n",
              "    }\n",
              "\n",
              "    .colab-df-convert {\n",
              "      background-color: #E8F0FE;\n",
              "      border: none;\n",
              "      border-radius: 50%;\n",
              "      cursor: pointer;\n",
              "      display: none;\n",
              "      fill: #1967D2;\n",
              "      height: 32px;\n",
              "      padding: 0 0 0 0;\n",
              "      width: 32px;\n",
              "    }\n",
              "\n",
              "    .colab-df-convert:hover {\n",
              "      background-color: #E2EBFA;\n",
              "      box-shadow: 0px 1px 2px rgba(60, 64, 67, 0.3), 0px 1px 3px 1px rgba(60, 64, 67, 0.15);\n",
              "      fill: #174EA6;\n",
              "    }\n",
              "\n",
              "    .colab-df-buttons div {\n",
              "      margin-bottom: 4px;\n",
              "    }\n",
              "\n",
              "    [theme=dark] .colab-df-convert {\n",
              "      background-color: #3B4455;\n",
              "      fill: #D2E3FC;\n",
              "    }\n",
              "\n",
              "    [theme=dark] .colab-df-convert:hover {\n",
              "      background-color: #434B5C;\n",
              "      box-shadow: 0px 1px 3px 1px rgba(0, 0, 0, 0.15);\n",
              "      filter: drop-shadow(0px 1px 2px rgba(0, 0, 0, 0.3));\n",
              "      fill: #FFFFFF;\n",
              "    }\n",
              "  </style>\n",
              "\n",
              "    <script>\n",
              "      const buttonEl =\n",
              "        document.querySelector('#df-85c7ab09-8326-4c52-abbc-6c00c696935b button.colab-df-convert');\n",
              "      buttonEl.style.display =\n",
              "        google.colab.kernel.accessAllowed ? 'block' : 'none';\n",
              "\n",
              "      async function convertToInteractive(key) {\n",
              "        const element = document.querySelector('#df-85c7ab09-8326-4c52-abbc-6c00c696935b');\n",
              "        const dataTable =\n",
              "          await google.colab.kernel.invokeFunction('convertToInteractive',\n",
              "                                                    [key], {});\n",
              "        if (!dataTable) return;\n",
              "\n",
              "        const docLinkHtml = 'Like what you see? Visit the ' +\n",
              "          '<a target=\"_blank\" href=https://colab.research.google.com/notebooks/data_table.ipynb>data table notebook</a>'\n",
              "          + ' to learn more about interactive tables.';\n",
              "        element.innerHTML = '';\n",
              "        dataTable['output_type'] = 'display_data';\n",
              "        await google.colab.output.renderOutput(dataTable, element);\n",
              "        const docLink = document.createElement('div');\n",
              "        docLink.innerHTML = docLinkHtml;\n",
              "        element.appendChild(docLink);\n",
              "      }\n",
              "    </script>\n",
              "  </div>\n",
              "\n",
              "\n",
              "    <div id=\"df-a87c3c5d-ef48-469d-afb0-a92d4bd7a0ea\">\n",
              "      <button class=\"colab-df-quickchart\" onclick=\"quickchart('df-a87c3c5d-ef48-469d-afb0-a92d4bd7a0ea')\"\n",
              "                title=\"Suggest charts\"\n",
              "                style=\"display:none;\">\n",
              "\n",
              "<svg xmlns=\"http://www.w3.org/2000/svg\" height=\"24px\"viewBox=\"0 0 24 24\"\n",
              "     width=\"24px\">\n",
              "    <g>\n",
              "        <path d=\"M19 3H5c-1.1 0-2 .9-2 2v14c0 1.1.9 2 2 2h14c1.1 0 2-.9 2-2V5c0-1.1-.9-2-2-2zM9 17H7v-7h2v7zm4 0h-2V7h2v10zm4 0h-2v-4h2v4z\"/>\n",
              "    </g>\n",
              "</svg>\n",
              "      </button>\n",
              "\n",
              "<style>\n",
              "  .colab-df-quickchart {\n",
              "      --bg-color: #E8F0FE;\n",
              "      --fill-color: #1967D2;\n",
              "      --hover-bg-color: #E2EBFA;\n",
              "      --hover-fill-color: #174EA6;\n",
              "      --disabled-fill-color: #AAA;\n",
              "      --disabled-bg-color: #DDD;\n",
              "  }\n",
              "\n",
              "  [theme=dark] .colab-df-quickchart {\n",
              "      --bg-color: #3B4455;\n",
              "      --fill-color: #D2E3FC;\n",
              "      --hover-bg-color: #434B5C;\n",
              "      --hover-fill-color: #FFFFFF;\n",
              "      --disabled-bg-color: #3B4455;\n",
              "      --disabled-fill-color: #666;\n",
              "  }\n",
              "\n",
              "  .colab-df-quickchart {\n",
              "    background-color: var(--bg-color);\n",
              "    border: none;\n",
              "    border-radius: 50%;\n",
              "    cursor: pointer;\n",
              "    display: none;\n",
              "    fill: var(--fill-color);\n",
              "    height: 32px;\n",
              "    padding: 0;\n",
              "    width: 32px;\n",
              "  }\n",
              "\n",
              "  .colab-df-quickchart:hover {\n",
              "    background-color: var(--hover-bg-color);\n",
              "    box-shadow: 0 1px 2px rgba(60, 64, 67, 0.3), 0 1px 3px 1px rgba(60, 64, 67, 0.15);\n",
              "    fill: var(--button-hover-fill-color);\n",
              "  }\n",
              "\n",
              "  .colab-df-quickchart-complete:disabled,\n",
              "  .colab-df-quickchart-complete:disabled:hover {\n",
              "    background-color: var(--disabled-bg-color);\n",
              "    fill: var(--disabled-fill-color);\n",
              "    box-shadow: none;\n",
              "  }\n",
              "\n",
              "  .colab-df-spinner {\n",
              "    border: 2px solid var(--fill-color);\n",
              "    border-color: transparent;\n",
              "    border-bottom-color: var(--fill-color);\n",
              "    animation:\n",
              "      spin 1s steps(1) infinite;\n",
              "  }\n",
              "\n",
              "  @keyframes spin {\n",
              "    0% {\n",
              "      border-color: transparent;\n",
              "      border-bottom-color: var(--fill-color);\n",
              "      border-left-color: var(--fill-color);\n",
              "    }\n",
              "    20% {\n",
              "      border-color: transparent;\n",
              "      border-left-color: var(--fill-color);\n",
              "      border-top-color: var(--fill-color);\n",
              "    }\n",
              "    30% {\n",
              "      border-color: transparent;\n",
              "      border-left-color: var(--fill-color);\n",
              "      border-top-color: var(--fill-color);\n",
              "      border-right-color: var(--fill-color);\n",
              "    }\n",
              "    40% {\n",
              "      border-color: transparent;\n",
              "      border-right-color: var(--fill-color);\n",
              "      border-top-color: var(--fill-color);\n",
              "    }\n",
              "    60% {\n",
              "      border-color: transparent;\n",
              "      border-right-color: var(--fill-color);\n",
              "    }\n",
              "    80% {\n",
              "      border-color: transparent;\n",
              "      border-right-color: var(--fill-color);\n",
              "      border-bottom-color: var(--fill-color);\n",
              "    }\n",
              "    90% {\n",
              "      border-color: transparent;\n",
              "      border-bottom-color: var(--fill-color);\n",
              "    }\n",
              "  }\n",
              "</style>\n",
              "\n",
              "      <script>\n",
              "        async function quickchart(key) {\n",
              "          const quickchartButtonEl =\n",
              "            document.querySelector('#' + key + ' button');\n",
              "          quickchartButtonEl.disabled = true;  // To prevent multiple clicks.\n",
              "          quickchartButtonEl.classList.add('colab-df-spinner');\n",
              "          try {\n",
              "            const charts = await google.colab.kernel.invokeFunction(\n",
              "                'suggestCharts', [key], {});\n",
              "          } catch (error) {\n",
              "            console.error('Error during call to suggestCharts:', error);\n",
              "          }\n",
              "          quickchartButtonEl.classList.remove('colab-df-spinner');\n",
              "          quickchartButtonEl.classList.add('colab-df-quickchart-complete');\n",
              "        }\n",
              "        (() => {\n",
              "          let quickchartButtonEl =\n",
              "            document.querySelector('#df-a87c3c5d-ef48-469d-afb0-a92d4bd7a0ea button');\n",
              "          quickchartButtonEl.style.display =\n",
              "            google.colab.kernel.accessAllowed ? 'block' : 'none';\n",
              "        })();\n",
              "      </script>\n",
              "    </div>\n",
              "\n",
              "    </div>\n",
              "  </div>\n"
            ],
            "application/vnd.google.colaboratory.intrinsic+json": {
              "type": "dataframe",
              "variable_name": "df_twitter"
            }
          },
          "metadata": {},
          "execution_count": 4
        }
      ]
    },
    {
      "cell_type": "code",
      "source": [
        "# Rename file to avoid issues with spaces\n",
        "!mv 'Twitter- datasets.csv' twitter_datasets.csv\n",
        "\n",
        "# Re-load with clean name\n",
        "df_twitter = pd.read_csv('twitter_datasets.csv')\n"
      ],
      "metadata": {
        "id": "swXI0P1yxExZ"
      },
      "execution_count": null,
      "outputs": []
    },
    {
      "cell_type": "code",
      "source": [
        "# See all column names to choose what to keep\n",
        "df_twitter.columns.tolist()\n"
      ],
      "metadata": {
        "colab": {
          "base_uri": "https://localhost:8080/"
        },
        "id": "BbepFo_Px3Vz",
        "outputId": "9c9bce3a-b794-41fc-a8dc-ca6174c79b72"
      },
      "execution_count": null,
      "outputs": [
        {
          "output_type": "execute_result",
          "data": {
            "text/plain": [
              "['id',\n",
              " 'user_posted',\n",
              " 'name',\n",
              " 'description',\n",
              " 'date_posted',\n",
              " 'photos',\n",
              " 'url',\n",
              " 'tagged_users',\n",
              " 'replies',\n",
              " 'reposts',\n",
              " 'likes',\n",
              " 'views',\n",
              " 'external_url',\n",
              " 'hashtags',\n",
              " 'followers',\n",
              " 'biography',\n",
              " 'posts_count',\n",
              " 'profile_image_link',\n",
              " 'following',\n",
              " 'is_verified',\n",
              " 'quotes',\n",
              " 'bookmarks',\n",
              " 'parent_post_details',\n",
              " 'external_image_urls',\n",
              " 'videos',\n",
              " 'quoted_post']"
            ]
          },
          "metadata": {},
          "execution_count": 9
        }
      ]
    },
    {
      "cell_type": "code",
      "source": [
        "# Select relevant columns\n",
        "df_relevant = df_twitter[['id', 'user_posted', 'description', 'date_posted', 'likes', 'replies', 'reposts', 'views']]\n",
        "\n",
        "# Show first 5 rows with clean formatting\n",
        "df_relevant.head().style.set_properties(**{'text-align': 'left'})\n"
      ],
      "metadata": {
        "colab": {
          "base_uri": "https://localhost:8080/",
          "height": 814
        },
        "id": "9PuEtjLqyksT",
        "outputId": "288a9df0-2ed8-4720-b744-2b2742dc257b"
      },
      "execution_count": null,
      "outputs": [
        {
          "output_type": "execute_result",
          "data": {
            "text/plain": [
              "<pandas.io.formats.style.Styler at 0x7c4490f06710>"
            ],
            "text/html": [
              "<style type=\"text/css\">\n",
              "#T_96e69_row0_col0, #T_96e69_row0_col1, #T_96e69_row0_col2, #T_96e69_row0_col3, #T_96e69_row0_col4, #T_96e69_row0_col5, #T_96e69_row0_col6, #T_96e69_row0_col7, #T_96e69_row1_col0, #T_96e69_row1_col1, #T_96e69_row1_col2, #T_96e69_row1_col3, #T_96e69_row1_col4, #T_96e69_row1_col5, #T_96e69_row1_col6, #T_96e69_row1_col7, #T_96e69_row2_col0, #T_96e69_row2_col1, #T_96e69_row2_col2, #T_96e69_row2_col3, #T_96e69_row2_col4, #T_96e69_row2_col5, #T_96e69_row2_col6, #T_96e69_row2_col7, #T_96e69_row3_col0, #T_96e69_row3_col1, #T_96e69_row3_col2, #T_96e69_row3_col3, #T_96e69_row3_col4, #T_96e69_row3_col5, #T_96e69_row3_col6, #T_96e69_row3_col7, #T_96e69_row4_col0, #T_96e69_row4_col1, #T_96e69_row4_col2, #T_96e69_row4_col3, #T_96e69_row4_col4, #T_96e69_row4_col5, #T_96e69_row4_col6, #T_96e69_row4_col7 {\n",
              "  text-align: left;\n",
              "}\n",
              "</style>\n",
              "<table id=\"T_96e69\" class=\"dataframe\">\n",
              "  <thead>\n",
              "    <tr>\n",
              "      <th class=\"blank level0\" >&nbsp;</th>\n",
              "      <th id=\"T_96e69_level0_col0\" class=\"col_heading level0 col0\" >id</th>\n",
              "      <th id=\"T_96e69_level0_col1\" class=\"col_heading level0 col1\" >user_posted</th>\n",
              "      <th id=\"T_96e69_level0_col2\" class=\"col_heading level0 col2\" >description</th>\n",
              "      <th id=\"T_96e69_level0_col3\" class=\"col_heading level0 col3\" >date_posted</th>\n",
              "      <th id=\"T_96e69_level0_col4\" class=\"col_heading level0 col4\" >likes</th>\n",
              "      <th id=\"T_96e69_level0_col5\" class=\"col_heading level0 col5\" >replies</th>\n",
              "      <th id=\"T_96e69_level0_col6\" class=\"col_heading level0 col6\" >reposts</th>\n",
              "      <th id=\"T_96e69_level0_col7\" class=\"col_heading level0 col7\" >views</th>\n",
              "    </tr>\n",
              "  </thead>\n",
              "  <tbody>\n",
              "    <tr>\n",
              "      <th id=\"T_96e69_level0_row0\" class=\"row_heading level0 row0\" >0</th>\n",
              "      <td id=\"T_96e69_row0_col0\" class=\"data row0 col0\" >1868428607451799983</td>\n",
              "      <td id=\"T_96e69_row0_col1\" class=\"data row0 col1\" >Glo███ews███</td>\n",
              "      <td id=\"T_96e69_row0_col2\" class=\"data row0 col2\" >Com o fim da ditadura Assad, muitos sírios consideram voltar para casa. 12 milhões fugiram desde o início da guerra civil, há 13 anos. Países europeus estão revendo políticas de refúgio a sírios.\n",
              "\n",
              "➡ Assista à #GloboNews:</td>\n",
              "      <td id=\"T_96e69_row0_col3\" class=\"data row0 col3\" >\"2024-12-15T22:51:08.000Z\"</td>\n",
              "      <td id=\"T_96e69_row0_col4\" class=\"data row0 col4\" >33</td>\n",
              "      <td id=\"T_96e69_row0_col5\" class=\"data row0 col5\" >2</td>\n",
              "      <td id=\"T_96e69_row0_col6\" class=\"data row0 col6\" >1</td>\n",
              "      <td id=\"T_96e69_row0_col7\" class=\"data row0 col7\" >8369</td>\n",
              "    </tr>\n",
              "    <tr>\n",
              "      <th id=\"T_96e69_level0_row1\" class=\"row_heading level0 row1\" >1</th>\n",
              "      <td id=\"T_96e69_row1_col0\" class=\"data row1 col0\" >1868159094567121215</td>\n",
              "      <td id=\"T_96e69_row1_col1\" class=\"data row1 col1\" >bil███ard███</td>\n",
              "      <td id=\"T_96e69_row1_col2\" class=\"data row1 col2\" >Brian Austin Green Tells MGK to ‘Grow Up’ After Musician’s Split From Megan Fox: ‘She’s Pregnant’</td>\n",
              "      <td id=\"T_96e69_row1_col3\" class=\"data row1 col3\" >\"2024-12-15T05:00:11.000Z\"</td>\n",
              "      <td id=\"T_96e69_row1_col4\" class=\"data row1 col4\" >43</td>\n",
              "      <td id=\"T_96e69_row1_col5\" class=\"data row1 col5\" >7</td>\n",
              "      <td id=\"T_96e69_row1_col6\" class=\"data row1 col6\" >3</td>\n",
              "      <td id=\"T_96e69_row1_col7\" class=\"data row1 col7\" >25007</td>\n",
              "    </tr>\n",
              "    <tr>\n",
              "      <th id=\"T_96e69_level0_row2\" class=\"row_heading level0 row2\" >2</th>\n",
              "      <td id=\"T_96e69_row2_col0\" class=\"data row2 col0\" >1868451534708883739</td>\n",
              "      <td id=\"T_96e69_row2_col1\" class=\"data row2 col1\" >TNT███rts███</td>\n",
              "      <td id=\"T_96e69_row2_col2\" class=\"data row2 col2\" >VENCE O PSG NO CLÁSSICO! 💪🇫🇷 Nossa @claalbuquerque traz os detalhes de mais um triunfo do time da capital, dessa vez contra o Lyon, pela #Ligue1 e destaca a atuação de uma jovem promessa da equipe comandada por Luis Enrique!</td>\n",
              "      <td id=\"T_96e69_row2_col3\" class=\"data row2 col3\" >\"2024-12-16T00:22:14.000Z\"</td>\n",
              "      <td id=\"T_96e69_row2_col4\" class=\"data row2 col4\" >33</td>\n",
              "      <td id=\"T_96e69_row2_col5\" class=\"data row2 col5\" >2</td>\n",
              "      <td id=\"T_96e69_row2_col6\" class=\"data row2 col6\" >1</td>\n",
              "      <td id=\"T_96e69_row2_col7\" class=\"data row2 col7\" >15497</td>\n",
              "    </tr>\n",
              "    <tr>\n",
              "      <th id=\"T_96e69_level0_row3\" class=\"row_heading level0 row3\" >3</th>\n",
              "      <td id=\"T_96e69_row3_col0\" class=\"data row3 col0\" >1868441382022717466</td>\n",
              "      <td id=\"T_96e69_row3_col1\" class=\"data row3 col1\" >TNT███rts███</td>\n",
              "      <td id=\"T_96e69_row3_col2\" class=\"data row3 col2\" >ÍDOLO E AGORA PRESIDENTE! 🇦🇷🇦🇷 O ex-atacante Diego Milito foi confirmado como novo presidente do Racing!\n",
              "\n",
              "🗞️ @TNTSportsAR</td>\n",
              "      <td id=\"T_96e69_row3_col3\" class=\"data row3 col3\" >\"2024-12-15T23:41:54.000Z\"</td>\n",
              "      <td id=\"T_96e69_row3_col4\" class=\"data row3 col4\" >230</td>\n",
              "      <td id=\"T_96e69_row3_col5\" class=\"data row3 col5\" >6</td>\n",
              "      <td id=\"T_96e69_row3_col6\" class=\"data row3 col6\" >5</td>\n",
              "      <td id=\"T_96e69_row3_col7\" class=\"data row3 col7\" >18267</td>\n",
              "    </tr>\n",
              "    <tr>\n",
              "      <th id=\"T_96e69_level0_row4\" class=\"row_heading level0 row4\" >4</th>\n",
              "      <td id=\"T_96e69_row4_col0\" class=\"data row4 col0\" >1868418260892565925</td>\n",
              "      <td id=\"T_96e69_row4_col1\" class=\"data row4 col1\" >Glo███ews███</td>\n",
              "      <td id=\"T_96e69_row4_col2\" class=\"data row4 col2\" >.@DanielaLima_ : cirurgia de Lula travou negociações para reforma ministerial, que ficou para início de 2025.\n",
              "\n",
              "➡ Assista à #GloboNews:</td>\n",
              "      <td id=\"T_96e69_row4_col3\" class=\"data row4 col3\" >\"2024-12-15T22:10:01.000Z\"</td>\n",
              "      <td id=\"T_96e69_row4_col4\" class=\"data row4 col4\" >84</td>\n",
              "      <td id=\"T_96e69_row4_col5\" class=\"data row4 col5\" >50</td>\n",
              "      <td id=\"T_96e69_row4_col6\" class=\"data row4 col6\" >4</td>\n",
              "      <td id=\"T_96e69_row4_col7\" class=\"data row4 col7\" >9569</td>\n",
              "    </tr>\n",
              "  </tbody>\n",
              "</table>\n"
            ]
          },
          "metadata": {},
          "execution_count": 20
        }
      ]
    },
    {
      "cell_type": "code",
      "source": [
        "!pip install deep-translator langdetect\n",
        "from deep_translator import GoogleTranslator\n",
        "from langdetect import detect\n",
        "\n",
        "def translate_if_not_english(text):\n",
        "    try:\n",
        "        lang = detect(text)\n",
        "        if lang != 'en':\n",
        "            translated = GoogleTranslator(source='auto', target='en').translate(text)\n",
        "            return translated\n",
        "        else:\n",
        "            return text\n",
        "    except:\n",
        "        return text  # return original if error (e.g., empty text)"
      ],
      "metadata": {
        "id": "pusMGmK4zjU9",
        "colab": {
          "base_uri": "https://localhost:8080/"
        },
        "outputId": "cd514e95-0c75-421e-df0a-7d3005712ebc"
      },
      "execution_count": 23,
      "outputs": [
        {
          "output_type": "stream",
          "name": "stdout",
          "text": [
            "Requirement already satisfied: deep-translator in /usr/local/lib/python3.11/dist-packages (1.11.4)\n",
            "Requirement already satisfied: langdetect in /usr/local/lib/python3.11/dist-packages (1.0.9)\n",
            "Requirement already satisfied: beautifulsoup4<5.0.0,>=4.9.1 in /usr/local/lib/python3.11/dist-packages (from deep-translator) (4.13.4)\n",
            "Requirement already satisfied: requests<3.0.0,>=2.23.0 in /usr/local/lib/python3.11/dist-packages (from deep-translator) (2.32.3)\n",
            "Requirement already satisfied: six in /usr/local/lib/python3.11/dist-packages (from langdetect) (1.17.0)\n",
            "Requirement already satisfied: soupsieve>1.2 in /usr/local/lib/python3.11/dist-packages (from beautifulsoup4<5.0.0,>=4.9.1->deep-translator) (2.7)\n",
            "Requirement already satisfied: typing-extensions>=4.0.0 in /usr/local/lib/python3.11/dist-packages (from beautifulsoup4<5.0.0,>=4.9.1->deep-translator) (4.13.2)\n",
            "Requirement already satisfied: charset-normalizer<4,>=2 in /usr/local/lib/python3.11/dist-packages (from requests<3.0.0,>=2.23.0->deep-translator) (3.4.2)\n",
            "Requirement already satisfied: idna<4,>=2.5 in /usr/local/lib/python3.11/dist-packages (from requests<3.0.0,>=2.23.0->deep-translator) (3.10)\n",
            "Requirement already satisfied: urllib3<3,>=1.21.1 in /usr/local/lib/python3.11/dist-packages (from requests<3.0.0,>=2.23.0->deep-translator) (2.4.0)\n",
            "Requirement already satisfied: certifi>=2017.4.17 in /usr/local/lib/python3.11/dist-packages (from requests<3.0.0,>=2.23.0->deep-translator) (2025.4.26)\n"
          ]
        }
      ]
    },
    {
      "cell_type": "code",
      "source": [
        "df_relevant['description_translated'] = df_relevant['description'].apply(translate_if_not_english)\n"
      ],
      "metadata": {
        "colab": {
          "base_uri": "https://localhost:8080/"
        },
        "id": "4vOMpqDoz2jR",
        "outputId": "d47fa43b-6d8b-4581-ba26-96efb2f0fd11"
      },
      "execution_count": null,
      "outputs": [
        {
          "output_type": "stream",
          "name": "stderr",
          "text": [
            "<ipython-input-22-db0cb2b12d2b>:1: SettingWithCopyWarning: \n",
            "A value is trying to be set on a copy of a slice from a DataFrame.\n",
            "Try using .loc[row_indexer,col_indexer] = value instead\n",
            "\n",
            "See the caveats in the documentation: https://pandas.pydata.org/pandas-docs/stable/user_guide/indexing.html#returning-a-view-versus-a-copy\n",
            "  df_relevant['description_translated'] = df_relevant['description'].apply(translate_if_not_english)\n"
          ]
        }
      ]
    },
    {
      "cell_type": "code",
      "source": [
        "df_relevant[['user_posted', 'description_translated', 'date_posted']].head().style.set_properties(**{'text-align': 'left'})"
      ],
      "metadata": {
        "colab": {
          "base_uri": "https://localhost:8080/",
          "height": 328
        },
        "id": "iqeV_xae3aOY",
        "outputId": "57cba438-0c6e-4085-cfd8-f20baaae3d4a"
      },
      "execution_count": null,
      "outputs": [
        {
          "output_type": "execute_result",
          "data": {
            "text/plain": [
              "<pandas.io.formats.style.Styler at 0x7c44909e7110>"
            ],
            "text/html": [
              "<style type=\"text/css\">\n",
              "#T_5c7dd_row0_col0, #T_5c7dd_row0_col1, #T_5c7dd_row0_col2, #T_5c7dd_row1_col0, #T_5c7dd_row1_col1, #T_5c7dd_row1_col2, #T_5c7dd_row2_col0, #T_5c7dd_row2_col1, #T_5c7dd_row2_col2, #T_5c7dd_row3_col0, #T_5c7dd_row3_col1, #T_5c7dd_row3_col2, #T_5c7dd_row4_col0, #T_5c7dd_row4_col1, #T_5c7dd_row4_col2 {\n",
              "  text-align: left;\n",
              "}\n",
              "</style>\n",
              "<table id=\"T_5c7dd\" class=\"dataframe\">\n",
              "  <thead>\n",
              "    <tr>\n",
              "      <th class=\"blank level0\" >&nbsp;</th>\n",
              "      <th id=\"T_5c7dd_level0_col0\" class=\"col_heading level0 col0\" >user_posted</th>\n",
              "      <th id=\"T_5c7dd_level0_col1\" class=\"col_heading level0 col1\" >description_translated</th>\n",
              "      <th id=\"T_5c7dd_level0_col2\" class=\"col_heading level0 col2\" >date_posted</th>\n",
              "    </tr>\n",
              "  </thead>\n",
              "  <tbody>\n",
              "    <tr>\n",
              "      <th id=\"T_5c7dd_level0_row0\" class=\"row_heading level0 row0\" >0</th>\n",
              "      <td id=\"T_5c7dd_row0_col0\" class=\"data row0 col0\" >Glo███ews███</td>\n",
              "      <td id=\"T_5c7dd_row0_col1\" class=\"data row0 col1\" >With the end of the Assad dictatorship, many Syrians consider coming home. 12 million have fled since the beginning of the civil war 13 years ago. European countries are reviewing refuge policies to Syrians.\n",
              "\n",
              "➡ Watch #globonews:</td>\n",
              "      <td id=\"T_5c7dd_row0_col2\" class=\"data row0 col2\" >\"2024-12-15T22:51:08.000Z\"</td>\n",
              "    </tr>\n",
              "    <tr>\n",
              "      <th id=\"T_5c7dd_level0_row1\" class=\"row_heading level0 row1\" >1</th>\n",
              "      <td id=\"T_5c7dd_row1_col0\" class=\"data row1 col0\" >bil███ard███</td>\n",
              "      <td id=\"T_5c7dd_row1_col1\" class=\"data row1 col1\" >Brian Austin Green Tells MGK to ‘Grow Up’ After Musician’s Split From Megan Fox: ‘She’s Pregnant’</td>\n",
              "      <td id=\"T_5c7dd_row1_col2\" class=\"data row1 col2\" >\"2024-12-15T05:00:11.000Z\"</td>\n",
              "    </tr>\n",
              "    <tr>\n",
              "      <th id=\"T_5c7dd_level0_row2\" class=\"row_heading level0 row2\" >2</th>\n",
              "      <td id=\"T_5c7dd_row2_col0\" class=\"data row2 col0\" >TNT███rts███</td>\n",
              "      <td id=\"T_5c7dd_row2_col1\" class=\"data row2 col1\" >PSG beats in the classic! 💪🇫🇷 Our @claalbuquerque brings the details of another triumph of the capital team, this time against Lyon, for #Ligue1 and highlights the performance of a young promise of the team led by Luis Enrique!</td>\n",
              "      <td id=\"T_5c7dd_row2_col2\" class=\"data row2 col2\" >\"2024-12-16T00:22:14.000Z\"</td>\n",
              "    </tr>\n",
              "    <tr>\n",
              "      <th id=\"T_5c7dd_level0_row3\" class=\"row_heading level0 row3\" >3</th>\n",
              "      <td id=\"T_5c7dd_row3_col0\" class=\"data row3 col0\" >TNT███rts███</td>\n",
              "      <td id=\"T_5c7dd_row3_col1\" class=\"data row3 col1\" >Idol and now President! 🇦🇷🇦🇷 Former striker Diego Milito was confirmed as new president of Racing!\n",
              "\n",
              "🗞️ @tntsportsar</td>\n",
              "      <td id=\"T_5c7dd_row3_col2\" class=\"data row3 col2\" >\"2024-12-15T23:41:54.000Z\"</td>\n",
              "    </tr>\n",
              "    <tr>\n",
              "      <th id=\"T_5c7dd_level0_row4\" class=\"row_heading level0 row4\" >4</th>\n",
              "      <td id=\"T_5c7dd_row4_col0\" class=\"data row4 col0\" >Glo███ews███</td>\n",
              "      <td id=\"T_5c7dd_row4_col1\" class=\"data row4 col1\" >.@Danielalima_: Lula surgery had negotiated ministerial reform, which was early 2025.\n",
              "\n",
              "➡ Watch #globonews:</td>\n",
              "      <td id=\"T_5c7dd_row4_col2\" class=\"data row4 col2\" >\"2024-12-15T22:10:01.000Z\"</td>\n",
              "    </tr>\n",
              "  </tbody>\n",
              "</table>\n"
            ]
          },
          "metadata": {},
          "execution_count": 23
        }
      ]
    },
    {
      "cell_type": "markdown",
      "source": [
        "**Saving clean translated dataset**"
      ],
      "metadata": {
        "id": "23nkI6T856gp"
      }
    },
    {
      "cell_type": "code",
      "source": [
        "# Select relevant columns\n",
        "df_cleaned = df_relevant[['id', 'user_posted', 'description_translated', 'date_posted', 'likes', 'replies', 'reposts', 'views']]\n",
        "\n",
        "# Save the cleaned dataset to a CSV file in the current session\n",
        "file_path = '/content/cleaned_twitter_dataset.csv'\n",
        "df_cleaned.to_csv(file_path, index=False)\n",
        "\n",
        "# Display message with file path\n",
        "print(f\"Cleaned dataset saved to session storage: {file_path}\")\n"
      ],
      "metadata": {
        "colab": {
          "base_uri": "https://localhost:8080/"
        },
        "id": "PCBx6QS36B5K",
        "outputId": "fd669187-89e0-4f12-9911-c9272a67db5a"
      },
      "execution_count": null,
      "outputs": [
        {
          "output_type": "stream",
          "name": "stdout",
          "text": [
            "Cleaned dataset saved to session storage: /content/cleaned_twitter_dataset.csv\n"
          ]
        }
      ]
    },
    {
      "cell_type": "markdown",
      "source": [
        "**Cleaning remaining datasets**"
      ],
      "metadata": {
        "id": "szzjBwHH7rLf"
      }
    },
    {
      "cell_type": "markdown",
      "source": [
        "**2. Facebook dataset**"
      ],
      "metadata": {
        "id": "Kr323-Hsaxkr"
      }
    },
    {
      "cell_type": "code",
      "source": [
        "# Load with correct filename (handle space)\n",
        "df_facebook = pd.read_csv('Facebook-datasets.csv')\n",
        "\n",
        "# See all column names to choose what to keep\n",
        "df_facebook.columns.tolist()"
      ],
      "metadata": {
        "colab": {
          "base_uri": "https://localhost:8080/"
        },
        "id": "4M18TgQda6cV",
        "outputId": "c80cf2e4-8107-4afc-ae3e-89b2605023fc"
      },
      "execution_count": 10,
      "outputs": [
        {
          "output_type": "execute_result",
          "data": {
            "text/plain": [
              "['url',\n",
              " 'post_id',\n",
              " 'post_url',\n",
              " 'comment_id',\n",
              " 'user_name',\n",
              " 'user_id',\n",
              " 'user_url',\n",
              " 'date_created',\n",
              " 'comment_text',\n",
              " 'num_likes',\n",
              " 'num_replies',\n",
              " 'attached_files',\n",
              " 'video_length',\n",
              " 'source_type',\n",
              " 'subtype',\n",
              " 'type']"
            ]
          },
          "metadata": {},
          "execution_count": 10
        }
      ]
    },
    {
      "cell_type": "code",
      "source": [
        "# Cleaning out irrelevant columns\n",
        "df_facebook = df_facebook[['user_id', 'comment_text', 'date_created', 'num_likes', 'num_replies']]\n",
        "\n",
        "# Replace NaN with 0\n",
        "df_facebook.fillna(0, inplace=True)\n",
        "# Convert float columns to integers\n",
        "df_facebook[['num_likes', 'num_replies']] = df_facebook[['num_likes', 'num_replies']].astype(int)\n",
        "\n",
        "# translate comment if not english\n",
        "df_facebook['comment_text'] = df_facebook['comment_text'].apply(translate_if_not_english)\n",
        "\n",
        "df_facebook.head().style.set_properties(**{'text-align': 'left'})"
      ],
      "metadata": {
        "colab": {
          "base_uri": "https://localhost:8080/",
          "height": 1000
        },
        "id": "z-_4bsescRj_",
        "outputId": "48e2211b-6efd-4142-db5d-52dbd1ec0659"
      },
      "execution_count": 24,
      "outputs": [
        {
          "output_type": "execute_result",
          "data": {
            "text/plain": [
              "<pandas.io.formats.style.Styler at 0x79cda56f3f10>"
            ],
            "text/html": [
              "<style type=\"text/css\">\n",
              "#T_30d07_row0_col0, #T_30d07_row0_col1, #T_30d07_row0_col2, #T_30d07_row0_col3, #T_30d07_row0_col4, #T_30d07_row1_col0, #T_30d07_row1_col1, #T_30d07_row1_col2, #T_30d07_row1_col3, #T_30d07_row1_col4, #T_30d07_row2_col0, #T_30d07_row2_col1, #T_30d07_row2_col2, #T_30d07_row2_col3, #T_30d07_row2_col4, #T_30d07_row3_col0, #T_30d07_row3_col1, #T_30d07_row3_col2, #T_30d07_row3_col3, #T_30d07_row3_col4, #T_30d07_row4_col0, #T_30d07_row4_col1, #T_30d07_row4_col2, #T_30d07_row4_col3, #T_30d07_row4_col4 {\n",
              "  text-align: left;\n",
              "}\n",
              "</style>\n",
              "<table id=\"T_30d07\" class=\"dataframe\">\n",
              "  <thead>\n",
              "    <tr>\n",
              "      <th class=\"blank level0\" >&nbsp;</th>\n",
              "      <th id=\"T_30d07_level0_col0\" class=\"col_heading level0 col0\" >user_id</th>\n",
              "      <th id=\"T_30d07_level0_col1\" class=\"col_heading level0 col1\" >comment_text</th>\n",
              "      <th id=\"T_30d07_level0_col2\" class=\"col_heading level0 col2\" >date_created</th>\n",
              "      <th id=\"T_30d07_level0_col3\" class=\"col_heading level0 col3\" >num_likes</th>\n",
              "      <th id=\"T_30d07_level0_col4\" class=\"col_heading level0 col4\" >num_replies</th>\n",
              "    </tr>\n",
              "  </thead>\n",
              "  <tbody>\n",
              "    <tr>\n",
              "      <th id=\"T_30d07_level0_row0\" class=\"row_heading level0 row0\" >0</th>\n",
              "      <td id=\"T_30d07_row0_col0\" class=\"data row0 col0\" >pfbid02QbSc7Zs4wR67DWEXtcGGyDdP6MjktDUBe7MHb2bNJQZsTgRbJ4dPQNeSXudv6w8rl</td>\n",
              "      <td id=\"T_30d07_row0_col1\" class=\"data row0 col1\" >Joy House</td>\n",
              "      <td id=\"T_30d07_row0_col2\" class=\"data row0 col2\" >\"2024-01-12T13:41:08.000Z\"</td>\n",
              "      <td id=\"T_30d07_row0_col3\" class=\"data row0 col3\" >0</td>\n",
              "      <td id=\"T_30d07_row0_col4\" class=\"data row0 col4\" >1</td>\n",
              "    </tr>\n",
              "    <tr>\n",
              "      <th id=\"T_30d07_level0_row1\" class=\"row_heading level0 row1\" >1</th>\n",
              "      <td id=\"T_30d07_row1_col0\" class=\"data row1 col0\" >pfbid02DAD4uXif7L2ibVx7zZ4B8vbza7Tqrqzdn1kF3T1qkUSX1otAu4uMvHoXyA1YtezYl</td>\n",
              "      <td id=\"T_30d07_row1_col1\" class=\"data row1 col1\" >Yet if a Verizon customer travels outside of the USA and loses their phone, they are screwed because Verizon will not help.</td>\n",
              "      <td id=\"T_30d07_row1_col2\" class=\"data row1 col2\" >\"2024-01-19T22:33:51.000Z\"</td>\n",
              "      <td id=\"T_30d07_row1_col3\" class=\"data row1 col3\" >0</td>\n",
              "      <td id=\"T_30d07_row1_col4\" class=\"data row1 col4\" >1</td>\n",
              "    </tr>\n",
              "    <tr>\n",
              "      <th id=\"T_30d07_level0_row2\" class=\"row_heading level0 row2\" >2</th>\n",
              "      <td id=\"T_30d07_row2_col0\" class=\"data row2 col0\" >pfbid02DVKaLESKQqoYHcmo2HeMBuUs2JNK18KZDMa1hMLfh4TiGJPQ9ByYkarcYSh4QmdVl</td>\n",
              "      <td id=\"T_30d07_row2_col1\" class=\"data row2 col1\" >Where is the 5g we was promised 2 years ago</td>\n",
              "      <td id=\"T_30d07_row2_col2\" class=\"data row2 col2\" >\"2024-01-16T01:39:54.000Z\"</td>\n",
              "      <td id=\"T_30d07_row2_col3\" class=\"data row2 col3\" >0</td>\n",
              "      <td id=\"T_30d07_row2_col4\" class=\"data row2 col4\" >1</td>\n",
              "    </tr>\n",
              "    <tr>\n",
              "      <th id=\"T_30d07_level0_row3\" class=\"row_heading level0 row3\" >3</th>\n",
              "      <td id=\"T_30d07_row3_col0\" class=\"data row3 col0\" >pfbid0WfY4JxPXbR2Xp4tsUCaaVtwGqwArAbCEL3BM7QXS5X496Gu23LQe1H1KhptCVnoFl</td>\n",
              "      <td id=\"T_30d07_row3_col1\" class=\"data row3 col1\" >Your customer service may be the worst on earth. Today I tried to update my wireless account to the tune of an $8 per month increase. I have been an AT&T customer for over 30 years. I spent 4 hours in the store and on the phone with your “fraud” people giving them more information than my bank required for my first mortgage and they could not “identify” me. Needless to say, I could not make any change. What was worse was they refused to tell me what the problem was. How can I reach a solution to a problem when I don’t know what the problem is? Tomorrow I am filing a formal complaint with the NC Attorney General. I will be shopping for a new wireless provider as well.</td>\n",
              "      <td id=\"T_30d07_row3_col2\" class=\"data row3 col2\" >\"2024-02-06T02:46:19.000Z\"</td>\n",
              "      <td id=\"T_30d07_row3_col3\" class=\"data row3 col3\" >0</td>\n",
              "      <td id=\"T_30d07_row3_col4\" class=\"data row3 col4\" >1</td>\n",
              "    </tr>\n",
              "    <tr>\n",
              "      <th id=\"T_30d07_level0_row4\" class=\"row_heading level0 row4\" >4</th>\n",
              "      <td id=\"T_30d07_row4_col0\" class=\"data row4 col0\" >100004055062562</td>\n",
              "      <td id=\"T_30d07_row4_col1\" class=\"data row4 col1\" >And what does this picture suppose to mean? That the man in the picture said what your caption says? Are you guys serious at all?</td>\n",
              "      <td id=\"T_30d07_row4_col2\" class=\"data row4 col2\" >\"2024-11-28T08:40:43.000Z\"</td>\n",
              "      <td id=\"T_30d07_row4_col3\" class=\"data row4 col3\" >0</td>\n",
              "      <td id=\"T_30d07_row4_col4\" class=\"data row4 col4\" >1</td>\n",
              "    </tr>\n",
              "  </tbody>\n",
              "</table>\n"
            ]
          },
          "metadata": {},
          "execution_count": 24
        }
      ]
    },
    {
      "cell_type": "code",
      "source": [
        "# Save the cleaned dataset to a CSV file in the current session\n",
        "file_path = '/content/cleaned_facebook_dataset.csv'\n",
        "df_facebook.to_csv(file_path, index=False)\n",
        "\n",
        "# Display message with file path\n",
        "print(f\"Cleaned dataset saved to session storage: {file_path}\")"
      ],
      "metadata": {
        "colab": {
          "base_uri": "https://localhost:8080/"
        },
        "id": "YPme6YBccSn7",
        "outputId": "c280e6ad-d8c2-492f-f76b-386e66574db1"
      },
      "execution_count": 26,
      "outputs": [
        {
          "output_type": "stream",
          "name": "stdout",
          "text": [
            "Cleaned dataset saved to session storage: /content/cleaned_facebook_dataset.csv\n"
          ]
        }
      ]
    },
    {
      "cell_type": "markdown",
      "source": [
        "**3. Instagram dataset**"
      ],
      "metadata": {
        "id": "n5jxPU4Xd-AY"
      }
    },
    {
      "cell_type": "code",
      "source": [
        "# Load with correct filename (handle space)\n",
        "df_instagram = pd.read_csv('Instagram-datasets.csv')\n",
        "\n",
        "# See all column names to choose what to keep\n",
        "df_instagram.columns.tolist()"
      ],
      "metadata": {
        "colab": {
          "base_uri": "https://localhost:8080/"
        },
        "id": "CVt26oHBeIwU",
        "outputId": "dc295e6d-1d38-438a-a1f8-c858e6729751"
      },
      "execution_count": 27,
      "outputs": [
        {
          "output_type": "execute_result",
          "data": {
            "text/plain": [
              "['url',\n",
              " 'comment_user',\n",
              " 'comment_user_url',\n",
              " 'comment_date',\n",
              " 'comment',\n",
              " 'likes_number',\n",
              " 'replies_number',\n",
              " 'replies',\n",
              " 'hashtag_comment',\n",
              " 'tagged_users_in_comment',\n",
              " 'post_url',\n",
              " 'post_user',\n",
              " 'comment_id',\n",
              " 'post_id']"
            ]
          },
          "metadata": {},
          "execution_count": 27
        }
      ]
    },
    {
      "cell_type": "code",
      "source": [
        "# Cleaning out irrelevant columns\n",
        "df_instagram = df_instagram[['comment_user', 'comment', 'comment_date', 'likes_number', 'replies_number']]\n",
        "\n",
        "# Replace NaN with 0\n",
        "# df_facebook.fillna(0, inplace=True)\n",
        "# Convert float columns to integers\n",
        "# df_facebook[['num_likes', 'num_replies']] = df_facebook[['num_likes', 'num_replies']].astype(int)\n",
        "\n",
        "# translate comment if not english\n",
        "df_instagram['comment'] = df_instagram['comment'].apply(translate_if_not_english)\n",
        "\n",
        "df_instagram.head().style.set_properties(**{'text-align': 'left'})"
      ],
      "metadata": {
        "colab": {
          "base_uri": "https://localhost:8080/",
          "height": 414
        },
        "id": "K93Xls4SeaxK",
        "outputId": "25636163-0277-41a7-e5c8-381f75454cea"
      },
      "execution_count": 28,
      "outputs": [
        {
          "output_type": "execute_result",
          "data": {
            "text/plain": [
              "<pandas.io.formats.style.Styler at 0x79cda136f750>"
            ],
            "text/html": [
              "<style type=\"text/css\">\n",
              "#T_40e2a_row0_col0, #T_40e2a_row0_col1, #T_40e2a_row0_col2, #T_40e2a_row0_col3, #T_40e2a_row0_col4, #T_40e2a_row1_col0, #T_40e2a_row1_col1, #T_40e2a_row1_col2, #T_40e2a_row1_col3, #T_40e2a_row1_col4, #T_40e2a_row2_col0, #T_40e2a_row2_col1, #T_40e2a_row2_col2, #T_40e2a_row2_col3, #T_40e2a_row2_col4, #T_40e2a_row3_col0, #T_40e2a_row3_col1, #T_40e2a_row3_col2, #T_40e2a_row3_col3, #T_40e2a_row3_col4, #T_40e2a_row4_col0, #T_40e2a_row4_col1, #T_40e2a_row4_col2, #T_40e2a_row4_col3, #T_40e2a_row4_col4 {\n",
              "  text-align: left;\n",
              "}\n",
              "</style>\n",
              "<table id=\"T_40e2a\" class=\"dataframe\">\n",
              "  <thead>\n",
              "    <tr>\n",
              "      <th class=\"blank level0\" >&nbsp;</th>\n",
              "      <th id=\"T_40e2a_level0_col0\" class=\"col_heading level0 col0\" >comment_user</th>\n",
              "      <th id=\"T_40e2a_level0_col1\" class=\"col_heading level0 col1\" >comment</th>\n",
              "      <th id=\"T_40e2a_level0_col2\" class=\"col_heading level0 col2\" >comment_date</th>\n",
              "      <th id=\"T_40e2a_level0_col3\" class=\"col_heading level0 col3\" >likes_number</th>\n",
              "      <th id=\"T_40e2a_level0_col4\" class=\"col_heading level0 col4\" >replies_number</th>\n",
              "    </tr>\n",
              "  </thead>\n",
              "  <tbody>\n",
              "    <tr>\n",
              "      <th id=\"T_40e2a_level0_row0\" class=\"row_heading level0 row0\" >0</th>\n",
              "      <td id=\"T_40e2a_row0_col0\" class=\"data row0 col0\" >fab███vf</td>\n",
              "      <td id=\"T_40e2a_row0_col1\" class=\"data row0 col1\" >👏👏👏</td>\n",
              "      <td id=\"T_40e2a_row0_col2\" class=\"data row0 col2\" >2024-11-13T20:01:57.000Z</td>\n",
              "      <td id=\"T_40e2a_row0_col3\" class=\"data row0 col3\" >1</td>\n",
              "      <td id=\"T_40e2a_row0_col4\" class=\"data row0 col4\" >1</td>\n",
              "    </tr>\n",
              "    <tr>\n",
              "      <th id=\"T_40e2a_level0_row1\" class=\"row_heading level0 row1\" >1</th>\n",
              "      <td id=\"T_40e2a_row1_col0\" class=\"data row1 col0\" >des███opi███</td>\n",
              "      <td id=\"T_40e2a_row1_col1\" class=\"data row1 col1\" >😍😍😍</td>\n",
              "      <td id=\"T_40e2a_row1_col2\" class=\"data row1 col2\" >2024-11-13T17:11:39.000Z</td>\n",
              "      <td id=\"T_40e2a_row1_col3\" class=\"data row1 col3\" >1</td>\n",
              "      <td id=\"T_40e2a_row1_col4\" class=\"data row1 col4\" >1</td>\n",
              "    </tr>\n",
              "    <tr>\n",
              "      <th id=\"T_40e2a_level0_row2\" class=\"row_heading level0 row2\" >2</th>\n",
              "      <td id=\"T_40e2a_row2_col0\" class=\"data row2 col0\" >mar███osb███</td>\n",
              "      <td id=\"T_40e2a_row2_col1\" class=\"data row2 col1\" >My dear @Euwanderson7 who was our delegate representing our state and the Sabito Valley, Novo East of Piauí.</td>\n",
              "      <td id=\"T_40e2a_row2_col2\" class=\"data row2 col2\" >2024-11-13T23:00:46.000Z</td>\n",
              "      <td id=\"T_40e2a_row2_col3\" class=\"data row2 col3\" >1</td>\n",
              "      <td id=\"T_40e2a_row2_col4\" class=\"data row2 col4\" >1</td>\n",
              "    </tr>\n",
              "    <tr>\n",
              "      <th id=\"T_40e2a_level0_row3\" class=\"row_heading level0 row3\" >3</th>\n",
              "      <td id=\"T_40e2a_row3_col0\" class=\"data row3 col0\" >tic███cau███</td>\n",
              "      <td id=\"T_40e2a_row3_col1\" class=\"data row3 col1\" >With Professor Matheus Carvalho, really sensational 👏👏👏👏</td>\n",
              "      <td id=\"T_40e2a_row3_col2\" class=\"data row3 col2\" >2024-11-14T00:16:19.000Z</td>\n",
              "      <td id=\"T_40e2a_row3_col3\" class=\"data row3 col3\" >3</td>\n",
              "      <td id=\"T_40e2a_row3_col4\" class=\"data row3 col4\" >1</td>\n",
              "    </tr>\n",
              "    <tr>\n",
              "      <th id=\"T_40e2a_level0_row4\" class=\"row_heading level0 row4\" >4</th>\n",
              "      <td id=\"T_40e2a_row4_col0\" class=\"data row4 col0\" >bru███nca███cao███</td>\n",
              "      <td id=\"T_40e2a_row4_col1\" class=\"data row4 col1\" >@Rafael.Fonteles every year is that. The only municipality in South America, which runs out of water when the water arrives. The citizens can no longer stand. When will you solve this? Delegates someone to solve this problem, my buddy. There is no such thing as a budget, 6 days without water. You don't solve because they don't want to.</td>\n",
              "      <td id=\"T_40e2a_row4_col2\" class=\"data row4 col2\" >2024-11-14T17:33:11.000Z</td>\n",
              "      <td id=\"T_40e2a_row4_col3\" class=\"data row4 col3\" >1</td>\n",
              "      <td id=\"T_40e2a_row4_col4\" class=\"data row4 col4\" >1</td>\n",
              "    </tr>\n",
              "  </tbody>\n",
              "</table>\n"
            ]
          },
          "metadata": {},
          "execution_count": 28
        }
      ]
    },
    {
      "cell_type": "code",
      "source": [
        "# Save the cleaned dataset to a CSV file in the current session\n",
        "file_path = '/content/cleaned_instagram_dataset.csv'\n",
        "df_instagram.to_csv(file_path, index=False)\n",
        "\n",
        "# Display message with file path\n",
        "print(f\"Cleaned dataset saved to session storage: {file_path}\")"
      ],
      "metadata": {
        "colab": {
          "base_uri": "https://localhost:8080/"
        },
        "id": "5JnDg28uhkhH",
        "outputId": "7aa025a3-cd46-4be5-f4cd-f03531da8830"
      },
      "execution_count": 29,
      "outputs": [
        {
          "output_type": "stream",
          "name": "stdout",
          "text": [
            "Cleaned dataset saved to session storage: /content/cleaned_instagram_dataset.csv\n"
          ]
        }
      ]
    },
    {
      "cell_type": "markdown",
      "source": [
        "**4. TikTok dataset**"
      ],
      "metadata": {
        "id": "DwqhBYYWhryC"
      }
    },
    {
      "cell_type": "code",
      "source": [
        "# Load with correct filename (handle space)\n",
        "df_tiktok = pd.read_csv('TikTok-datasets.csv')\n",
        "\n",
        "# See all column names to choose what to keep\n",
        "df_tiktok.columns.tolist()"
      ],
      "metadata": {
        "colab": {
          "base_uri": "https://localhost:8080/"
        },
        "id": "4dJR5yIGhwlG",
        "outputId": "cf3c31a5-eb8e-45df-aade-ea0669af14f9"
      },
      "execution_count": 30,
      "outputs": [
        {
          "output_type": "execute_result",
          "data": {
            "text/plain": [
              "['url',\n",
              " 'post_url',\n",
              " 'post_id',\n",
              " 'post_date_created',\n",
              " 'date_created',\n",
              " 'comment_text',\n",
              " 'num_likes',\n",
              " 'num_replies',\n",
              " 'commenter_user_name',\n",
              " 'commenter_id',\n",
              " 'commenter_url',\n",
              " 'comment_id',\n",
              " 'comment_url']"
            ]
          },
          "metadata": {},
          "execution_count": 30
        }
      ]
    },
    {
      "cell_type": "code",
      "source": [
        "# Cleaning out irrelevant columns\n",
        "df_tiktok = df_tiktok[['comment_text', 'commenter_user_name', 'comment_id', 'date_created', 'num_likes', 'num_replies']]\n",
        "\n",
        "# Replace NaN with 0\n",
        "# df_facebook.fillna(0, inplace=True)\n",
        "# Convert float columns to integers\n",
        "# df_facebook[['num_likes', 'num_replies']] = df_facebook[['num_likes', 'num_replies']].astype(int)\n",
        "\n",
        "# translate comment if not english\n",
        "df_tiktok['comment'] = df_tiktok['comment_text'].apply(translate_if_not_english)\n",
        "\n",
        "df_tiktok.head().style.set_properties(**{'text-align': 'left'})"
      ],
      "metadata": {
        "colab": {
          "base_uri": "https://localhost:8080/",
          "height": 504
        },
        "id": "v2Fq98Q9iBcu",
        "outputId": "ba9f5810-9505-4404-a533-69c38570f831"
      },
      "execution_count": 31,
      "outputs": [
        {
          "output_type": "execute_result",
          "data": {
            "text/plain": [
              "<pandas.io.formats.style.Styler at 0x79cda56f3cd0>"
            ],
            "text/html": [
              "<style type=\"text/css\">\n",
              "#T_18707_row0_col0, #T_18707_row0_col1, #T_18707_row0_col2, #T_18707_row0_col3, #T_18707_row0_col4, #T_18707_row0_col5, #T_18707_row0_col6, #T_18707_row1_col0, #T_18707_row1_col1, #T_18707_row1_col2, #T_18707_row1_col3, #T_18707_row1_col4, #T_18707_row1_col5, #T_18707_row1_col6, #T_18707_row2_col0, #T_18707_row2_col1, #T_18707_row2_col2, #T_18707_row2_col3, #T_18707_row2_col4, #T_18707_row2_col5, #T_18707_row2_col6, #T_18707_row3_col0, #T_18707_row3_col1, #T_18707_row3_col2, #T_18707_row3_col3, #T_18707_row3_col4, #T_18707_row3_col5, #T_18707_row3_col6, #T_18707_row4_col0, #T_18707_row4_col1, #T_18707_row4_col2, #T_18707_row4_col3, #T_18707_row4_col4, #T_18707_row4_col5, #T_18707_row4_col6 {\n",
              "  text-align: left;\n",
              "}\n",
              "</style>\n",
              "<table id=\"T_18707\" class=\"dataframe\">\n",
              "  <thead>\n",
              "    <tr>\n",
              "      <th class=\"blank level0\" >&nbsp;</th>\n",
              "      <th id=\"T_18707_level0_col0\" class=\"col_heading level0 col0\" >comment_text</th>\n",
              "      <th id=\"T_18707_level0_col1\" class=\"col_heading level0 col1\" >commenter_user_name</th>\n",
              "      <th id=\"T_18707_level0_col2\" class=\"col_heading level0 col2\" >comment_id</th>\n",
              "      <th id=\"T_18707_level0_col3\" class=\"col_heading level0 col3\" >date_created</th>\n",
              "      <th id=\"T_18707_level0_col4\" class=\"col_heading level0 col4\" >num_likes</th>\n",
              "      <th id=\"T_18707_level0_col5\" class=\"col_heading level0 col5\" >num_replies</th>\n",
              "      <th id=\"T_18707_level0_col6\" class=\"col_heading level0 col6\" >comment</th>\n",
              "    </tr>\n",
              "  </thead>\n",
              "  <tbody>\n",
              "    <tr>\n",
              "      <th id=\"T_18707_level0_row0\" class=\"row_heading level0 row0\" >0</th>\n",
              "      <td id=\"T_18707_row0_col0\" class=\"data row0 col0\" >What is the dividend yield on this fund ?</td>\n",
              "      <td id=\"T_18707_row0_col1\" class=\"data row0 col1\" >fin███ Ai███n</td>\n",
              "      <td id=\"T_18707_row0_col2\" class=\"data row0 col2\" >7381564492096340768</td>\n",
              "      <td id=\"T_18707_row0_col3\" class=\"data row0 col3\" >\"2024-06-17T20:00:29.000Z\"</td>\n",
              "      <td id=\"T_18707_row0_col4\" class=\"data row0 col4\" >1</td>\n",
              "      <td id=\"T_18707_row0_col5\" class=\"data row0 col5\" >1</td>\n",
              "      <td id=\"T_18707_row0_col6\" class=\"data row0 col6\" >What is the dividend yield on this fund ?</td>\n",
              "    </tr>\n",
              "    <tr>\n",
              "      <th id=\"T_18707_level0_row1\" class=\"row_heading level0 row1\" >1</th>\n",
              "      <td id=\"T_18707_row1_col0\" class=\"data row1 col0\" >Too much stress with stocks bro</td>\n",
              "      <td id=\"T_18707_row1_col1\" class=\"data row1 col1\" >kap███ate███19</td>\n",
              "      <td id=\"T_18707_row1_col2\" class=\"data row1 col2\" >7412215320918655777</td>\n",
              "      <td id=\"T_18707_row1_col3\" class=\"data row1 col3\" >\"2024-09-08T10:21:17.000Z\"</td>\n",
              "      <td id=\"T_18707_row1_col4\" class=\"data row1 col4\" >2</td>\n",
              "      <td id=\"T_18707_row1_col5\" class=\"data row1 col5\" >2</td>\n",
              "      <td id=\"T_18707_row1_col6\" class=\"data row1 col6\" >Too much stress with stocks bro</td>\n",
              "    </tr>\n",
              "    <tr>\n",
              "      <th id=\"T_18707_level0_row2\" class=\"row_heading level0 row2\" >2</th>\n",
              "      <td id=\"T_18707_row2_col0\" class=\"data row2 col0\" >wouldn't really call it a crash , maybe use the term \"falling \" crash would be like double digit % decline within 48 hours , unless you just using buzz words for algorithms</td>\n",
              "      <td id=\"T_18707_row2_col1\" class=\"data row2 col1\" >Narz</td>\n",
              "      <td id=\"T_18707_row2_col2\" class=\"data row2 col2\" >7412192541975790369</td>\n",
              "      <td id=\"T_18707_row2_col3\" class=\"data row2 col3\" >\"2024-09-08T08:52:47.000Z\"</td>\n",
              "      <td id=\"T_18707_row2_col4\" class=\"data row2 col4\" >0</td>\n",
              "      <td id=\"T_18707_row2_col5\" class=\"data row2 col5\" >2</td>\n",
              "      <td id=\"T_18707_row2_col6\" class=\"data row2 col6\" >wouldn't really call it a crash , maybe use the term \"falling \" crash would be like double digit % decline within 48 hours , unless you just using buzz words for algorithms</td>\n",
              "    </tr>\n",
              "    <tr>\n",
              "      <th id=\"T_18707_level0_row3\" class=\"row_heading level0 row3\" >3</th>\n",
              "      <td id=\"T_18707_row3_col0\" class=\"data row3 col0\" >Delivery hero.. wish I’d put kkkk in that 🤣</td>\n",
              "      <td id=\"T_18707_row3_col1\" class=\"data row3 col1\" >tra███e13███</td>\n",
              "      <td id=\"T_18707_row3_col2\" class=\"data row3 col2\" >7438652110797849376</td>\n",
              "      <td id=\"T_18707_row3_col3\" class=\"data row3 col3\" >\"2024-11-18T16:09:45.000Z\"</td>\n",
              "      <td id=\"T_18707_row3_col4\" class=\"data row3 col4\" >1</td>\n",
              "      <td id=\"T_18707_row3_col5\" class=\"data row3 col5\" >1</td>\n",
              "      <td id=\"T_18707_row3_col6\" class=\"data row3 col6\" >Delivery hero.. wish I’d put kkkk in that 🤣</td>\n",
              "    </tr>\n",
              "    <tr>\n",
              "      <th id=\"T_18707_level0_row4\" class=\"row_heading level0 row4\" >4</th>\n",
              "      <td id=\"T_18707_row4_col0\" class=\"data row4 col0\" >I made $82,000 in 7 days investing in trading @PAULWHEELERFX start your investment to make a change</td>\n",
              "      <td id=\"T_18707_row4_col1\" class=\"data row4 col1\" >kar███</td>\n",
              "      <td id=\"T_18707_row4_col2\" class=\"data row4 col2\" >7400426764684264198</td>\n",
              "      <td id=\"T_18707_row4_col3\" class=\"data row4 col3\" >\"2024-08-07T15:55:35.000Z\"</td>\n",
              "      <td id=\"T_18707_row4_col4\" class=\"data row4 col4\" >0</td>\n",
              "      <td id=\"T_18707_row4_col5\" class=\"data row4 col5\" >0</td>\n",
              "      <td id=\"T_18707_row4_col6\" class=\"data row4 col6\" >I made $82,000 in 7 days investing in trading @PAULWHEELERFX start your investment to make a change</td>\n",
              "    </tr>\n",
              "  </tbody>\n",
              "</table>\n"
            ]
          },
          "metadata": {},
          "execution_count": 31
        }
      ]
    },
    {
      "cell_type": "code",
      "source": [
        "# Save the cleaned dataset to a CSV file in the current session\n",
        "file_path = '/content/cleaned_tiktok_dataset.csv'\n",
        "df_tiktok.to_csv(file_path, index=False)\n",
        "\n",
        "# Display message with file path\n",
        "print(f\"Cleaned dataset saved to session storage: {file_path}\")"
      ],
      "metadata": {
        "colab": {
          "base_uri": "https://localhost:8080/"
        },
        "id": "LAxHKhS3iQPS",
        "outputId": "3d3695eb-0ec8-477c-a327-245da1cc2c4d"
      },
      "execution_count": 32,
      "outputs": [
        {
          "output_type": "stream",
          "name": "stdout",
          "text": [
            "Cleaned dataset saved to session storage: /content/cleaned_tiktok_dataset.csv\n"
          ]
        }
      ]
    }
  ]
}